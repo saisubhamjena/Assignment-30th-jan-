{
 "cells": [
  {
   "cell_type": "code",
   "execution_count": 2,
   "id": "5b24ae00-00a2-4d08-9db9-1cb6e860de34",
   "metadata": {},
   "outputs": [
    {
     "name": "stdin",
     "output_type": "stream",
     "text": [
      "Enter your marks: 60\n"
     ]
    },
    {
     "name": "stdout",
     "output_type": "stream",
     "text": [
      "Grade C\n"
     ]
    }
   ],
   "source": [
    "#1 Ans\n",
    "\n",
    "mark=int(input(\"Enter your marks:\"))\n",
    "\n",
    "if mark>90:\n",
    "    print(\"Grade A\")\n",
    "elif mark>80 and mark <=90:\n",
    "    print(\"Grade B\")\n",
    "elif mark>=60 and mark<=80:\n",
    "    print(\"Grade C\")\n",
    "else:\n",
    "    print(\"Grade D\")"
   ]
  },
  {
   "cell_type": "code",
   "execution_count": 6,
   "id": "e7c633d8-86fa-4f23-94e0-8796b98202e6",
   "metadata": {},
   "outputs": [
    {
     "name": "stdin",
     "output_type": "stream",
     "text": [
      "Enter bike price: 1000000\n"
     ]
    },
    {
     "name": "stdout",
     "output_type": "stream",
     "text": [
      "Tax rate: 15%\n",
      "Tax to be paid:  150000.0\n"
     ]
    }
   ],
   "source": [
    "#2 Ans\n",
    "\n",
    "price=int(input(\"Enter bike price:\"))\n",
    "\n",
    "if price > 100000:\n",
    "    print(\"Tax rate: 15%\")\n",
    "    print(\"Tax to be paid: \" ,price*15/100)\n",
    "if price <= 100000 and price >50000:\n",
    "    print(\"Tax rate: 10%\")\n",
    "    print(\"Tax to be paid: \",price*10/100)\n",
    "if price < 50000:\n",
    "    print(\"Tax rate: 5%\")\n",
    "    print(\"Tax to be paid: \",price*5/100)\n",
    "    "
   ]
  },
  {
   "cell_type": "code",
   "execution_count": 12,
   "id": "acbbc56a-32b8-461c-a3e7-7770f03aaa94",
   "metadata": {},
   "outputs": [
    {
     "name": "stdin",
     "output_type": "stream",
     "text": [
      "Select a city from(Delhi,Agra,Jaipur): Delhi\n"
     ]
    },
    {
     "data": {
      "text/plain": [
       "'Red Fort'"
      ]
     },
     "execution_count": 12,
     "metadata": {},
     "output_type": "execute_result"
    }
   ],
   "source": [
    "#3 Ans\n",
    "\n",
    "name=input(\"Select a city from(Delhi,Agra,Jaipur):\")\n",
    "\n",
    "city={\"Delhi\":\"Red Fort\",\"Agra\":\"Taj Mahal\",\"Jaipur\":\"Jal Mahal\"}\n",
    "\n",
    "city[name]\n"
   ]
  },
  {
   "cell_type": "code",
   "execution_count": 2,
   "id": "b7d2916b-4b9a-4564-a107-f57a36a47603",
   "metadata": {},
   "outputs": [
    {
     "name": "stdin",
     "output_type": "stream",
     "text": [
      "Enter a number: 27\n"
     ]
    },
    {
     "name": "stdout",
     "output_type": "stream",
     "text": [
      "Number is divided by 3 before it is <= 10 is  1  times\n"
     ]
    }
   ],
   "source": [
    "#4 Ans\n",
    "\n",
    "n= int(input(\"Enter a number:\"))\n",
    "count=0\n",
    "\n",
    "while n > 10:\n",
    "    if n%3==0:\n",
    "        n=n/3\n",
    "        count=count+1\n",
    "        \n",
    "print(\"Number is divided by 3 before it is <= 10 is \",count,\" times\")"
   ]
  },
  {
   "cell_type": "code",
   "execution_count": null,
   "id": "64a2a6c7-6b98-4263-a6fb-2a0f1c9eeaac",
   "metadata": {},
   "outputs": [],
   "source": [
    "#5 why and when to use while loop in python?\n",
    "#Ans   \n",
    "    \"\"\"\n",
    "    A loop that runs a single statement or a set of statements for a given true condition. When the number of iterations is unknown, \n",
    "    a \"while\" loop is used. The statement is repeated until the boolean value is false. The initialization and condition checking are \n",
    "    done at the beginning of the loop.Because the condition is tested at the beginning of a while loop, it is also known as the pre-test loop\n",
    "    \"\"\""
   ]
  },
  {
   "cell_type": "code",
   "execution_count": 4,
   "id": "336c77a1-0781-4256-af2c-abf7ae231afc",
   "metadata": {},
   "outputs": [
    {
     "name": "stdout",
     "output_type": "stream",
     "text": [
      "* \n",
      "* * \n",
      "* * * \n",
      "* * * * \n",
      "* * * * * \n"
     ]
    }
   ],
   "source": [
    "#6 Ans\n",
    "#Pattern1\n",
    "\n",
    "n=4 \n",
    "i=1;j=0\n",
    "while(i<=n):\n",
    "    while(j<=i-1):\n",
    "        print(\"* \",end=\"\")\n",
    "        j+=1\n",
    "    print(\"\\r\")\n",
    "    j=0;i+=1"
   ]
  },
  {
   "cell_type": "code",
   "execution_count": 1,
   "id": "972348d5-56a9-4b95-ae74-c6fb02fcebff",
   "metadata": {},
   "outputs": [
    {
     "name": "stdout",
     "output_type": "stream",
     "text": [
      "     \n",
      "    *\n",
      "   **\n",
      "  ***\n",
      " ****\n",
      "*****\n"
     ]
    }
   ],
   "source": [
    "#pattern 2\n",
    "\n",
    "n=5;i=0\n",
    "while(i<=n):\n",
    "  print(\" \" * (n - i) +\"*\" * i)\n",
    "  i+=1"
   ]
  },
  {
   "cell_type": "code",
   "execution_count": 3,
   "id": "12a43109-4940-4285-a222-07003d68954e",
   "metadata": {},
   "outputs": [
    {
     "name": "stdout",
     "output_type": "stream",
     "text": [
      "10\n",
      "9\n",
      "8\n",
      "7\n",
      "6\n",
      "5\n",
      "4\n",
      "3\n",
      "2\n",
      "1\n"
     ]
    }
   ],
   "source": [
    "#7 Ans\n",
    "\n",
    "n=11\n",
    "while n>1:\n",
    "    n=n-1\n",
    "    print(n)"
   ]
  },
  {
   "cell_type": "code",
   "execution_count": null,
   "id": "fdc737a1-b7a2-4731-ad5a-b449d30183e3",
   "metadata": {},
   "outputs": [],
   "source": []
  },
  {
   "cell_type": "code",
   "execution_count": null,
   "id": "dfa10602-e3ac-46c9-bfe8-44dcf3d48536",
   "metadata": {},
   "outputs": [],
   "source": []
  }
 ],
 "metadata": {
  "kernelspec": {
   "display_name": "Python 3 (ipykernel)",
   "language": "python",
   "name": "python3"
  },
  "language_info": {
   "codemirror_mode": {
    "name": "ipython",
    "version": 3
   },
   "file_extension": ".py",
   "mimetype": "text/x-python",
   "name": "python",
   "nbconvert_exporter": "python",
   "pygments_lexer": "ipython3",
   "version": "3.10.8"
  }
 },
 "nbformat": 4,
 "nbformat_minor": 5
}
